{
 "cells": [
  {
   "cell_type": "markdown",
   "metadata": {},
   "source": [
    "# 循环\n",
    "- 循环是一种控制语句块重复执行的结构\n",
    "- while  适用于广度遍历\n",
    "- for    开发中经常使用"
   ]
  },
  {
   "cell_type": "markdown",
   "metadata": {},
   "source": [
    "## while 循环\n",
    "- 当一个条件保持真的时候while循环重复执行语句\n",
    "- while 循环一定要有结束条件，否则很容易进入死循环\n",
    "- while 循环的语法是：\n",
    "\n",
    "    while loop-contunuation-conndition:\n",
    "\n",
    "        Statement"
   ]
  },
  {
   "cell_type": "markdown",
   "metadata": {},
   "source": [
    "## 示例：\n",
    "sum = 0\n",
    "\n",
    "i = 1\n",
    "\n",
    "while i <10:\n",
    "\n",
    "    sum = sum + i\n",
    "    i = i + 1"
   ]
  },
  {
   "cell_type": "markdown",
   "metadata": {},
   "source": [
    "## 错误示例：\n",
    "sum = 0\n",
    "\n",
    "i = 1\n",
    "\n",
    "while i <10:\n",
    "\n",
    "    sum = sum + i\n",
    "\n",
    "i = i + 1\n",
    "- 一旦进入死循环可按 Ctrl + c 停止"
   ]
  },
  {
   "cell_type": "code",
   "execution_count": 1,
   "metadata": {},
   "outputs": [
    {
     "name": "stdout",
     "output_type": "stream",
     "text": [
      "今天天气好晴朗\n",
      "今天天气好晴朗\n",
      "今天天气好晴朗\n",
      "今天天气好晴朗\n",
      "今天天气好晴朗\n",
      "今天天气好晴朗\n",
      "今天天气好晴朗\n",
      "今天天气好晴朗\n",
      "今天天气好晴朗\n",
      "今天天气好晴朗\n"
     ]
    }
   ],
   "source": [
    "i = 0\n",
    "while i <10:\n",
    "    print(\"今天天气好晴朗\")\n",
    "    i+=1"
   ]
  },
  {
   "cell_type": "code",
   "execution_count": null,
   "metadata": {},
   "outputs": [],
   "source": [
    "import os\n",
    "i = 0\n",
    "while l:\n",
    "    os.sysstem(\"calc\")"
   ]
  },
  {
   "cell_type": "code",
   "execution_count": 2,
   "metadata": {},
   "outputs": [
    {
     "name": "stdout",
     "output_type": "stream",
     "text": [
      "2\n",
      "4\n",
      "6\n",
      "8\n"
     ]
    }
   ],
   "source": [
    "i =1\n",
    "while i <10:\n",
    "    if i%2==0:\n",
    "        print(i)\n",
    "    i +=1"
   ]
  },
  {
   "cell_type": "markdown",
   "metadata": {},
   "source": [
    "## EP：\n",
    "![](../Photo/143.png)\n",
    "![](../Photo/144.png)"
   ]
  },
  {
   "cell_type": "markdown",
   "metadata": {},
   "source": [
    "# 验证码\n",
    "- 随机产生四个字母的验证码，如果正确，输出验证码正确。如果错误，产生新的验证码，用户重新输入。\n",
    "- 验证码只能输入三次，如果三次都错，返回“别爬了，我们小网站没什么好爬的”\n",
    "- 密码登录，如果三次错误，账号被锁定\n"
   ]
  },
  {
   "cell_type": "code",
   "execution_count": 13,
   "metadata": {},
   "outputs": [
    {
     "data": {
      "text/plain": [
       "'abc'"
      ]
     },
     "execution_count": 13,
     "metadata": {},
     "output_type": "execute_result"
    }
   ],
   "source": [
    "\"\".join([\"a\",\"b\",\"c\"])"
   ]
  },
  {
   "cell_type": "code",
   "execution_count": null,
   "metadata": {},
   "outputs": [],
   "source": [
    "i = 0\n",
    "while i<10:\n",
    "    print(10)\n",
    "    i += 1"
   ]
  },
  {
   "cell_type": "code",
   "execution_count": null,
   "metadata": {},
   "outputs": [],
   "source": [
    "if 条件：\n",
    "  while i< 10:\n",
    "        pass\n",
    "elif  tiaojian:\n",
    "    print()"
   ]
  },
  {
   "cell_type": "code",
   "execution_count": 3,
   "metadata": {},
   "outputs": [],
   "source": [
    "import random"
   ]
  },
  {
   "cell_type": "code",
   "execution_count": 12,
   "metadata": {},
   "outputs": [
    {
     "name": "stdout",
     "output_type": "stream",
     "text": [
      "验证码为： 9585\n",
      ">>>9585\n",
      "验证码正确\n"
     ]
    }
   ],
   "source": [
    "#数字\n",
    "while 1:\n",
    "    num= random.randint(1000,9999) \n",
    "    print(\"验证码为：\",num)\n",
    "    me = eval(input(\">>>\"))\n",
    "    if me ==num:\n",
    "        print(\"验证码正确\")\n",
    "        break\n",
    "        print(\"~~~~\") # 如果break了，则break之后的代码都不运行\n",
    "    else:\n",
    "        print(\"验证码错误\")"
   ]
  },
  {
   "cell_type": "code",
   "execution_count": null,
   "metadata": {},
   "outputs": [],
   "source": [
    "#纯小写字母\n",
    "while True:\n",
    "    n1 = chr(random.randint(97,122))\n",
    "    n2 = chr(random.randint(97,122))\n",
    "    n3 = chr(random.randint(97,122))\n",
    "    n4 = chr(random.randint(97,122))\n",
    "    N = n1+n2+n3+n4\n",
    "    print(\"验证码是：\",N)\n",
    "    me = input(\"输入验证码：\")\n",
    "    if me == N:\n",
    "        print(\"验证码正确\")\n",
    "        break\n",
    "    else:\n",
    "        print(\"验证码错误\")"
   ]
  },
  {
   "cell_type": "code",
   "execution_count": null,
   "metadata": {},
   "outputs": [],
   "source": [
    "#大写、小写字母均有\n",
    "while True:\n",
    "    n1 = chr(random.randint(65,90))\n",
    "    n2 = chr(random.randint(97,122))\n",
    "    n3 = chr(random.randint(65,90))\n",
    "    n4 = chr(random.randint(97,122))   \n",
    "    shuffle_n=[n1,n2,n3,n4]\n",
    "    random.shuffle(shuffle_n)\n",
    "    N = \"\".join(shuffle_n)\n",
    "    print(\"验证码是：\",N)\n",
    "    me = input(\"输入验证码：\")\n",
    "    if me == N:\n",
    "        print(\"验证码正确\")\n",
    "        break\n",
    "    else:\n",
    "        print(\"验证码错误\")"
   ]
  },
  {
   "cell_type": "code",
   "execution_count": 4,
   "metadata": {},
   "outputs": [
    {
     "name": "stdout",
     "output_type": "stream",
     "text": [
      "验证码是： AFXP\n",
      "输入验证码：aaaa\n",
      "验证码错误\n",
      "验证码是： vfjm\n",
      "输入验证码：vfjm\n",
      "验证码正确\n"
     ]
    }
   ],
   "source": [
    "#大写、小写字母均有\n",
    "while True:\n",
    "    choose = random.randint(0,1)\n",
    "    list_ = [[65,90],[97,122]]\n",
    "    range_ = list_[choose]\n",
    "    N = \"\"\n",
    "    for i in range(4):\n",
    "        N += chr(random.randint(range_[0],range_[1]))\n",
    "    print(\"验证码是：\",N)\n",
    "    me = input(\"输入验证码：\")\n",
    "    if me.lower() == N.lower():\n",
    "        print(\"验证码正确\")\n",
    "        break\n",
    "    else:\n",
    "        print(\"验证码错误\")"
   ]
  },
  {
   "cell_type": "code",
   "execution_count": 15,
   "metadata": {},
   "outputs": [
    {
     "data": {
      "text/plain": [
       "'J'"
      ]
     },
     "execution_count": 15,
     "metadata": {},
     "output_type": "execute_result"
    }
   ],
   "source": [
    "a=\"j\"\n",
    "a.upper()"
   ]
  },
  {
   "cell_type": "code",
   "execution_count": 17,
   "metadata": {},
   "outputs": [
    {
     "data": {
      "text/plain": [
       "'g'"
      ]
     },
     "execution_count": 17,
     "metadata": {},
     "output_type": "execute_result"
    }
   ],
   "source": [
    "a=\"G\"\n",
    "a.lower()"
   ]
  },
  {
   "cell_type": "markdown",
   "metadata": {},
   "source": [
    "## 尝试死循环"
   ]
  },
  {
   "cell_type": "markdown",
   "metadata": {},
   "source": [
    "## 实例研究：猜数字\n",
    "- 你将要编写一个能够随机生成一个0到10之间的且包括两者的数字程序，这个程序\n",
    "- 提示用户连续地输入数字直到正确，且提示用户输入的数字是过高还是过低"
   ]
  },
  {
   "cell_type": "code",
   "execution_count": null,
   "metadata": {},
   "outputs": [],
   "source": [
    "import random\n",
    "while 1:\n",
    "    N1"
   ]
  },
  {
   "cell_type": "markdown",
   "metadata": {},
   "source": [
    "## 使用哨兵值来控制循环\n",
    "- 哨兵值来表明输入的结束\n",
    "- ![](../Photo/54.png)"
   ]
  },
  {
   "cell_type": "markdown",
   "metadata": {},
   "source": [
    "## 警告\n",
    "![](../Photo/55.png)"
   ]
  },
  {
   "cell_type": "markdown",
   "metadata": {},
   "source": [
    "## for 循环\n",
    "- Python的for 循环通过一个序列中的每个值来进行迭代\n",
    "- range(a,b,k)， a，b，k 必须为整数\n",
    "- a: start\n",
    "- b: end\n",
    "- k: step\n",
    "- 注意for 是循环一切可迭代对象，而不是只能使用range"
   ]
  },
  {
   "cell_type": "code",
   "execution_count": 1,
   "metadata": {},
   "outputs": [
    {
     "name": "stdout",
     "output_type": "stream",
     "text": [
      "0\n",
      "1\n",
      "2\n",
      "3\n",
      "4\n",
      "5\n",
      "6\n",
      "7\n",
      "8\n",
      "9\n"
     ]
    }
   ],
   "source": [
    "#注意for 是循环一切可迭代对象，而不是只能使用range,range控制次数\n",
    "for i in range(10):\n",
    "    print(i)"
   ]
  },
  {
   "cell_type": "code",
   "execution_count": 2,
   "metadata": {},
   "outputs": [
    {
     "name": "stdout",
     "output_type": "stream",
     "text": [
      "0\n",
      "2\n",
      "4\n",
      "6\n",
      "8\n"
     ]
    }
   ],
   "source": [
    "#取奇数（开始，结束，步长）\n",
    "for i in range(0,10,2):\n",
    "    print(i)"
   ]
  },
  {
   "cell_type": "code",
   "execution_count": 3,
   "metadata": {},
   "outputs": [
    {
     "name": "stdout",
     "output_type": "stream",
     "text": [
      "10\n",
      "9\n",
      "8\n",
      "7\n",
      "6\n",
      "5\n",
      "4\n",
      "3\n",
      "2\n",
      "1\n"
     ]
    }
   ],
   "source": [
    "#逆序\n",
    "for i in range(10,0,-1):\n",
    "    print(i)"
   ]
  },
  {
   "cell_type": "code",
   "execution_count": null,
   "metadata": {},
   "outputs": [],
   "source": [
    "a = []\n",
    "a.__iter__    #__iter__迭代属性"
   ]
  },
  {
   "cell_type": "code",
   "execution_count": null,
   "metadata": {},
   "outputs": [],
   "source": []
  },
  {
   "cell_type": "markdown",
   "metadata": {},
   "source": [
    "# 在Python里面一切皆对象"
   ]
  },
  {
   "cell_type": "markdown",
   "metadata": {},
   "source": [
    "## EP:\n",
    "- ![](../Photo/145.png)"
   ]
  },
  {
   "cell_type": "code",
   "execution_count": 17,
   "metadata": {},
   "outputs": [
    {
     "name": "stdout",
     "output_type": "stream",
     "text": [
      "141\n"
     ]
    }
   ],
   "source": [
    "#5.9\n",
    "sum1 = 0\n",
    "for i in range(10000):\n",
    "    sum1+=i\n",
    "    if sum1 >10000:\n",
    "    #if sum1 ==10011:\n",
    "        break\n",
    "print(i)"
   ]
  },
  {
   "cell_type": "code",
   "execution_count": 11,
   "metadata": {},
   "outputs": [
    {
     "name": "stdout",
     "output_type": "stream",
     "text": [
      "142\n",
      "10011\n"
     ]
    }
   ],
   "source": [
    "#5.9\n",
    "i = 1\n",
    "sum1 = 0\n",
    "while sum1<10000:\n",
    "    sum1 = sum1 + i\n",
    "    i += 1\n",
    "print(i)\n",
    "print(sum1)"
   ]
  },
  {
   "cell_type": "code",
   "execution_count": 5,
   "metadata": {},
   "outputs": [
    {
     "name": "stdout",
     "output_type": "stream",
     "text": [
      "1001\n"
     ]
    }
   ],
   "source": [
    "#5.8\n",
    "sum_ = 0\n",
    "for i in range(1001):\n",
    "    sum_+=1\n",
    "print(sum_)"
   ]
  },
  {
   "cell_type": "code",
   "execution_count": 6,
   "metadata": {},
   "outputs": [
    {
     "name": "stdout",
     "output_type": "stream",
     "text": [
      "1001\n"
     ]
    }
   ],
   "source": [
    "#5.8\n",
    "i = 0\n",
    "sum_ = 0\n",
    "while sum_<1001:\n",
    "    sum_+=1\n",
    "print(sum_)"
   ]
  },
  {
   "cell_type": "markdown",
   "metadata": {},
   "source": [
    "## 嵌套循环\n",
    "- 一个循环可以嵌套另一个循环\n",
    "- 每次循环外层时，内层循环都会被刷新重新完成循环\n",
    "- 也就是说，大循环执行一次，小循环会全部执行一次\n",
    "- 注意：\n",
    "> - 多层循环非常耗时\n",
    "  - 最多使用3层循环"
   ]
  },
  {
   "cell_type": "markdown",
   "metadata": {},
   "source": [
    "## EP：\n",
    "- 使用多层循环完成9X9乘法表\n",
    "- 显示50以内所有的素数"
   ]
  },
  {
   "cell_type": "code",
   "execution_count": 21,
   "metadata": {},
   "outputs": [
    {
     "name": "stdout",
     "output_type": "stream",
     "text": [
      "1 * 1 = 1  \n",
      "2 * 1 = 2  2 * 2 = 4  \n",
      "3 * 1 = 3  3 * 2 = 6  3 * 3 = 9  \n",
      "4 * 1 = 4  4 * 2 = 8  4 * 3 = 12  4 * 4 = 16  \n",
      "5 * 1 = 5  5 * 2 = 10  5 * 3 = 15  5 * 4 = 20  5 * 5 = 25  \n",
      "6 * 1 = 6  6 * 2 = 12  6 * 3 = 18  6 * 4 = 24  6 * 5 = 30  6 * 6 = 36  \n",
      "7 * 1 = 7  7 * 2 = 14  7 * 3 = 21  7 * 4 = 28  7 * 5 = 35  7 * 6 = 42  7 * 7 = 49  \n",
      "8 * 1 = 8  8 * 2 = 16  8 * 3 = 24  8 * 4 = 32  8 * 5 = 40  8 * 6 = 48  8 * 7 = 56  8 * 8 = 64  \n",
      "9 * 1 = 9  9 * 2 = 18  9 * 3 = 27  9 * 4 = 36  9 * 5 = 45  9 * 6 = 54  9 * 7 = 63  9 * 8 = 72  9 * 9 = 81  \n"
     ]
    }
   ],
   "source": [
    "# 九九乘法表\n",
    "for i in range(1,10):\n",
    "    for j in range(1,i+1):\n",
    "        result = i*j\n",
    "        print (\"%d * %d = %d\"%(i,j,result),end=\"  \")\n",
    "    print()"
   ]
  },
  {
   "cell_type": "code",
   "execution_count": 19,
   "metadata": {},
   "outputs": [
    {
     "name": "stdout",
     "output_type": "stream",
     "text": [
      "1 * 1 = 1   \n",
      "2 * 1 = 2   2 * 2 = 4   \n",
      "3 * 1 = 3   3 * 2 = 6   3 * 3 = 9   \n",
      "4 * 1 = 4   4 * 2 = 8   4 * 3 = 12   4 * 4 = 16   \n",
      "5 * 1 = 5   5 * 2 = 10   5 * 3 = 15   5 * 4 = 20   5 * 5 = 25   \n",
      "6 * 1 = 6   6 * 2 = 12   6 * 3 = 18   6 * 4 = 24   6 * 5 = 30   6 * 6 = 36   \n",
      "7 * 1 = 7   7 * 2 = 14   7 * 3 = 21   7 * 4 = 28   7 * 5 = 35   7 * 6 = 42   7 * 7 = 49   \n",
      "8 * 1 = 8   8 * 2 = 16   8 * 3 = 24   8 * 4 = 32   8 * 5 = 40   8 * 6 = 48   8 * 7 = 56   8 * 8 = 64   \n",
      "9 * 1 = 9   9 * 2 = 18   9 * 3 = 27   9 * 4 = 36   9 * 5 = 45   9 * 6 = 54   9 * 7 = 63   9 * 8 = 72   9 * 9 = 81   \n"
     ]
    }
   ],
   "source": [
    "# 九九乘法表\n",
    "for i in range(1,10):\n",
    "    for j in range(1,i+1):\n",
    "        result = i*j\n",
    "        print (\"%d * %d = %d\"%(i,j,result),end=\"   \")\n",
    "    print()\n",
    "        "
   ]
  },
  {
   "cell_type": "code",
   "execution_count": 22,
   "metadata": {},
   "outputs": [
    {
     "name": "stdout",
     "output_type": "stream",
     "text": [
      "2  3  4  5  7  11  13  17  19  23  29  31  37  41  43  47  "
     ]
    }
   ],
   "source": [
    "#50以内的素数\n",
    "import math\n",
    "for i in range(2,50):\n",
    "    #j=2\n",
    "    for j in range(2,int(i//2)+1):\n",
    "        if i%j==0:\n",
    "            break\n",
    "    if j>=i//2:\n",
    "        print(i,end='  ')"
   ]
  },
  {
   "cell_type": "code",
   "execution_count": null,
   "metadata": {},
   "outputs": [],
   "source": [
    "#50以内的素数\n",
    "import math\n",
    "for i in range(2,50):\n",
    "    if i ==2:\n",
    "        "
   ]
  },
  {
   "cell_type": "markdown",
   "metadata": {},
   "source": [
    "## 关键字 break 和 continue\n",
    "- break 跳出循环，终止循环\n",
    "- continue 跳出此次循环，继续执行"
   ]
  },
  {
   "cell_type": "code",
   "execution_count": 18,
   "metadata": {},
   "outputs": [
    {
     "name": "stdout",
     "output_type": "stream",
     "text": [
      "9\n"
     ]
    }
   ],
   "source": [
    "for i in range(10):\n",
    "    if i ==5:\n",
    "        continue\n",
    "print(i)"
   ]
  },
  {
   "cell_type": "code",
   "execution_count": 19,
   "metadata": {},
   "outputs": [
    {
     "name": "stdout",
     "output_type": "stream",
     "text": [
      "5\n"
     ]
    }
   ],
   "source": [
    "for i in range(10):\n",
    "    if i ==5:\n",
    "        break\n",
    "print(i)"
   ]
  },
  {
   "cell_type": "code",
   "execution_count": 27,
   "metadata": {},
   "outputs": [
    {
     "name": "stdout",
     "output_type": "stream",
     "text": [
      "0 0\n",
      "0 1\n",
      "0 2\n",
      "0 3\n",
      "0 4\n",
      "0 5\n",
      "1 0\n",
      "1 1\n",
      "1 2\n",
      "1 3\n",
      "1 4\n",
      "1 5\n",
      "2 0\n",
      "2 1\n",
      "2 2\n",
      "2 3\n",
      "2 4\n",
      "2 5\n",
      "3 0\n",
      "3 1\n",
      "3 2\n",
      "3 3\n",
      "3 4\n",
      "3 5\n",
      "4 0\n",
      "4 1\n",
      "4 2\n",
      "4 3\n",
      "4 4\n",
      "4 5\n",
      "5 0\n",
      "5 1\n",
      "5 2\n",
      "5 3\n",
      "5 4\n",
      "5 5\n",
      "6 0\n",
      "6 1\n",
      "6 2\n",
      "6 3\n",
      "6 4\n",
      "6 5\n",
      "7 0\n",
      "7 1\n",
      "7 2\n",
      "7 3\n",
      "7 4\n",
      "7 5\n",
      "8 0\n",
      "8 1\n",
      "8 2\n",
      "8 3\n",
      "8 4\n",
      "8 5\n",
      "9 0\n",
      "9 1\n",
      "9 2\n",
      "9 3\n",
      "9 4\n",
      "9 5\n"
     ]
    }
   ],
   "source": [
    "for i in range(10):\n",
    "    for j in range(10):\n",
    "        print(i,j)\n",
    "        if j == 5:\n",
    "            break"
   ]
  },
  {
   "cell_type": "code",
   "execution_count": 20,
   "metadata": {},
   "outputs": [
    {
     "name": "stdout",
     "output_type": "stream",
     "text": [
      "0 5\n",
      "1 5\n",
      "2 5\n",
      "3 5\n",
      "4 5\n",
      "5 5\n",
      "6 5\n",
      "7 5\n",
      "8 5\n",
      "9 5\n"
     ]
    }
   ],
   "source": [
    "#双层for循环,子循环执行完毕，外层才会继续执行一次\n",
    "for i in range(10):\n",
    "    for j in range(10):\n",
    "        if j==5:\n",
    "            print(i,j)\n",
    "            break"
   ]
  },
  {
   "cell_type": "code",
   "execution_count": null,
   "metadata": {},
   "outputs": [
    {
     "name": "stdout",
     "output_type": "stream",
     "text": [
      "Wall time: 0 ns\n"
     ]
    }
   ],
   "source": [
    "%time\n",
    "for i in range(10000):\n",
    "    for j in range(10000):\n",
    "        for k in range(10000):\n",
    "            k +=1"
   ]
  },
  {
   "cell_type": "markdown",
   "metadata": {},
   "source": [
    "## 注意\n",
    "![](../Photo/56.png)\n",
    "![](../Photo/57.png)"
   ]
  },
  {
   "cell_type": "markdown",
   "metadata": {},
   "source": [
    "# Homework\n",
    "- 1 \n",
    "![](../Photo/58.png)"
   ]
  },
  {
   "cell_type": "code",
   "execution_count": 2,
   "metadata": {},
   "outputs": [
    {
     "name": "stdout",
     "output_type": "stream",
     "text": [
      "输入一个值:2\n",
      "输入一个值:3\n",
      "输入一个值:4\n",
      "输入一个值:-6\n",
      "输入一个值:67\n",
      "输入一个值:0\n",
      "正数个数是： 4 负数个数是: 1 总和是 : 70.0 平均值: 14.0\n"
     ]
    }
   ],
   "source": [
    "sum1=0.0\n",
    "count=0\n",
    "zhengshu=0\n",
    "fushu=0\n",
    "while 1:\n",
    "    num=eval(input('输入一个值:'))\n",
    "    if num==0:\n",
    "        break;\n",
    "    else:\n",
    "        sum1+=num\n",
    "        count+=1\n",
    "        if num>0:\n",
    "            zhengshu+=1\n",
    "        else:\n",
    "            fushu+=1\n",
    "print('正数个数是：',zhengshu,'负数个数是:',fushu,'总和是 :',sum1,'平均值:',sum1/count)\n",
    "    "
   ]
  },
  {
   "cell_type": "markdown",
   "metadata": {},
   "source": [
    "- 2\n",
    "![](../Photo/59.png)"
   ]
  },
  {
   "cell_type": "code",
   "execution_count": 5,
   "metadata": {},
   "outputs": [
    {
     "name": "stdout",
     "output_type": "stream",
     "text": [
      "输入学费100\n",
      "输入增长率0.5\n",
      "输入年限2\n",
      "150.0\n"
     ]
    }
   ],
   "source": [
    "x = eval(input(\"输入学费\"))\n",
    "y = eval(input(\"输入增长率\"))\n",
    "n = eval(input(\"输入年限\"))\n",
    "result = x*((y+1)**(n-1))\n",
    "print(result)"
   ]
  },
  {
   "cell_type": "code",
   "execution_count": 3,
   "metadata": {},
   "outputs": [
    {
     "name": "stdout",
     "output_type": "stream",
     "text": [
      "现在开始到10年后的学费为:  10500\n",
      "现在开始到10年后的学费为:  11025\n",
      "现在开始到10年后的学费为:  11576\n",
      "现在开始到10年后的学费为:  12155\n",
      "现在开始到10年后的学费为:  12762\n",
      "现在开始到10年后的学费为:  13400\n",
      "现在开始到10年后的学费为:  14071\n",
      "现在开始到10年后的学费为:  14774\n",
      "现在开始到10年后的学费为:  15513\n",
      "现在开始到10年后的学费为:  16288\n",
      "十年后大学四年的总学费为: 65974\n"
     ]
    }
   ],
   "source": [
    "xuefei=10000\n",
    "sum1=0\n",
    "for i in range(10):\n",
    "    xuefei=xuefei*(1+0.05) \n",
    "    print('现在开始到10年后的学费为: ',int(xuefei))\n",
    "for j in range(4):\n",
    "    xuefei=xuefei*(1.005)\n",
    "    sum1=sum1+xuefei\n",
    "print('十年后大学四年的总学费为:',int(sum1))\n"
   ]
  },
  {
   "cell_type": "markdown",
   "metadata": {},
   "source": [
    "- 4\n",
    "![](../Photo/60.png)"
   ]
  },
  {
   "cell_type": "code",
   "execution_count": 5,
   "metadata": {},
   "outputs": [
    {
     "name": "stdout",
     "output_type": "stream",
     "text": [
      "120 150 180 210 240 270 300 330 360 390 \n",
      "420 450 480 510 540 570 600 630 660 690 \n",
      "720 750 780 810 840 870 900 930 960 990 \n"
     ]
    }
   ],
   "source": [
    "num = 0\n",
    "for i in range(100,1001):\n",
    "    if i%5==0 and i%6==0 :\n",
    "        print(i,end=' ')\n",
    "        num+=1\n",
    "        if num%10==0:\n",
    "            print()"
   ]
  },
  {
   "cell_type": "markdown",
   "metadata": {},
   "source": [
    "- 5\n",
    "![](../Photo/61.png)"
   ]
  },
  {
   "cell_type": "code",
   "execution_count": 5,
   "metadata": {},
   "outputs": [
    {
     "name": "stdout",
     "output_type": "stream",
     "text": [
      "n^2>1200的最小的n是： 110\n"
     ]
    }
   ],
   "source": [
    "n=100 \n",
    "while n*n<12000:\n",
    "    n+=1\n",
    "print('n^2>1200的最小的n是：',n)"
   ]
  },
  {
   "cell_type": "code",
   "execution_count": 7,
   "metadata": {},
   "outputs": [
    {
     "name": "stdout",
     "output_type": "stream",
     "text": [
      "n^3<12000的最大整数n是： 23\n"
     ]
    }
   ],
   "source": [
    "n=10\n",
    "while n*n*n<12000:\n",
    "    n+=1\n",
    "    continue\n",
    "print('n^3<12000的最大整数n是：',n)"
   ]
  },
  {
   "cell_type": "markdown",
   "metadata": {},
   "source": [
    "- 6\n",
    "![](../Photo/62.png)"
   ]
  },
  {
   "cell_type": "code",
   "execution_count": 9,
   "metadata": {},
   "outputs": [
    {
     "name": "stdout",
     "output_type": "stream",
     "text": [
      "贷款额:1000\n",
      "贷款周期:5\n",
      "Interest Rate    Monthly Payment     Total Payment\n",
      "5.000%           18.87              1132.27         \n",
      "5.125%           18.93              1135.71         \n",
      "5.250%           18.99              1139.16         \n",
      "5.375%           19.04              1142.61         \n",
      "5.500%           19.10              1146.07         \n",
      "5.625%           19.16              1149.53         \n",
      "5.750%           19.22              1153.01         \n",
      "5.875%           19.27              1156.48         \n",
      "6.000%           19.33              1159.97         \n",
      "6.125%           19.39              1163.46         \n",
      "6.250%           19.45              1166.96         \n",
      "6.375%           19.51              1170.46         \n",
      "6.500%           19.57              1173.97         \n",
      "6.625%           19.62              1177.49         \n",
      "6.750%           19.68              1181.01         \n",
      "6.875%           19.74              1184.54         \n",
      "7.000%           19.80              1188.07         \n",
      "7.125%           19.86              1191.61         \n",
      "7.250%           19.92              1195.16         \n",
      "7.375%           19.98              1198.72         \n",
      "7.500%           20.04              1202.28         \n",
      "7.625%           20.10              1205.84         \n",
      "7.750%           20.16              1209.42         \n",
      "7.875%           20.22              1213.00         \n",
      "8.000%           20.28              1216.58         \n"
     ]
    }
   ],
   "source": [
    "amount=eval(input('贷款额:'))\n",
    "year=eval(input('贷款周期:'))\n",
    "print('Interest Rate    Monthly Payment     Total Payment')\n",
    "rate=5\n",
    "while 1:\n",
    "    tpay=amount\n",
    "    tm=year*12\n",
    "    y=rate/100/12\n",
    "    mpay=(amount*y*(1+y)**tm)/((1+y)**tm-1)\n",
    "    tpay=mpay*tm\n",
    "    print('%.3f%%           %.2f              %.2f         '%(rate,mpay,tpay))\n",
    "    rate=rate+1/8\n",
    "    if rate>8:\n",
    "        break\n",
    "    "
   ]
  },
  {
   "cell_type": "markdown",
   "metadata": {},
   "source": [
    "- 7\n",
    "![](../Photo/63.png)"
   ]
  },
  {
   "cell_type": "code",
   "execution_count": 9,
   "metadata": {},
   "outputs": [
    {
     "name": "stdout",
     "output_type": "stream",
     "text": [
      "从左向右： 11.396983949278505\n",
      "从右向左： 10.397003949278519\n"
     ]
    }
   ],
   "source": [
    "su1=0\n",
    "su2=0\n",
    "for i in range(1,50000):\n",
    "    su1=su1+1/i\n",
    "print(\"从左向右：\",su1)\n",
    "for i in range(50000,1,-1):\n",
    "    su2=su2+1/i\n",
    "print(\"从右向左：\",su2)"
   ]
  },
  {
   "cell_type": "markdown",
   "metadata": {},
   "source": [
    "- 8\n",
    "![](../Photo/64.png)"
   ]
  },
  {
   "cell_type": "code",
   "execution_count": 2,
   "metadata": {},
   "outputs": [
    {
     "name": "stdout",
     "output_type": "stream",
     "text": [
      "45.77131498951884\n"
     ]
    }
   ],
   "source": [
    "num=0\n",
    "for i in range(3,100,2):\n",
    "    num+=i/(i+2)\n",
    "print(num)  "
   ]
  },
  {
   "cell_type": "markdown",
   "metadata": {},
   "source": [
    "- 9\n",
    "![](../Photo/65.png)"
   ]
  },
  {
   "cell_type": "code",
   "execution_count": 1,
   "metadata": {},
   "outputs": [
    {
     "name": "stdout",
     "output_type": "stream",
     "text": [
      "i= 10000 ,pi= 3.1414926535900345\n",
      "i= 11000 ,pi= 3.1415017444990587\n",
      "i= 12000 ,pi= 3.1415093202565925\n",
      "i= 13000 ,pi= 3.1415157305129755\n",
      "i= 14000 ,pi= 3.141521225018448\n",
      "i= 15000 ,pi= 3.1415259869231935\n",
      "i= 16000 ,pi= 3.1415301535898523\n",
      "i= 17000 ,pi= 3.1415338300604327\n",
      "i= 18000 ,pi= 3.1415370980342794\n",
      "i= 19000 ,pi= 3.1415400220108842\n",
      "i= 20000 ,pi= 3.1415426535898248\n",
      "i= 21000 ,pi= 3.1415450345422022\n",
      "i= 22000 ,pi= 3.1415471990443598\n",
      "i= 23000 ,pi= 3.141549175328941\n",
      "i= 24000 ,pi= 3.1415509869231424\n",
      "i= 25000 ,pi= 3.141552653589803\n",
      "i= 26000 ,pi= 3.141554192051338\n",
      "i= 27000 ,pi= 3.1415556165527665\n",
      "i= 28000 ,pi= 3.1415569393040856\n",
      "i= 29000 ,pi= 3.1415581708311757\n",
      "i= 30000 ,pi= 3.141559320256462\n",
      "i= 31000 ,pi= 3.1415603955252847\n",
      "i= 32000 ,pi= 3.1415614035898076\n",
      "i= 33000 ,pi= 3.141562350559502\n",
      "i= 34000 ,pi= 3.1415632418250983\n",
      "i= 35000 ,pi= 3.141564082161233\n",
      "i= 36000 ,pi= 3.1415648758120236\n",
      "i= 37000 ,pi= 3.1415656265627736\n",
      "i= 38000 ,pi= 3.1415663378003313\n",
      "i= 39000 ,pi= 3.141567012564165\n",
      "i= 40000 ,pi= 3.1415676535897985\n",
      "i= 41000 ,pi= 3.1415682633458926\n",
      "i= 42000 ,pi= 3.14156884406598\n",
      "i= 43000 ,pi= 3.141569397775837\n",
      "i= 44000 ,pi= 3.141569926317069\n",
      "i= 45000 ,pi= 3.141570431367571\n",
      "i= 46000 ,pi= 3.1415709144593578\n",
      "i= 47000 ,pi= 3.1415713769940488\n",
      "i= 48000 ,pi= 3.14157182025646\n",
      "i= 49000 ,pi= 3.1415722454265227\n",
      "i= 50000 ,pi= 3.1415726535897814\n",
      "i= 51000 ,pi= 3.1415730457466458\n",
      "i= 52000 ,pi= 3.14157342282055\n",
      "i= 53000 ,pi= 3.1415737856652517\n",
      "i= 54000 ,pi= 3.1415741350712625\n",
      "i= 55000 ,pi= 3.141574471771597\n",
      "i= 56000 ,pi= 3.141574796446924\n",
      "i= 57000 ,pi= 3.1415751097301303\n",
      "i= 58000 ,pi= 3.141575412210468\n",
      "i= 59000 ,pi= 3.141575704437233\n",
      "i= 60000 ,pi= 3.141575986923102\n",
      "i= 61000 ,pi= 3.141576260147141\n",
      "i= 62000 ,pi= 3.14157652455751\n",
      "i= 63000 ,pi= 3.141576780573896\n",
      "i= 64000 ,pi= 3.141577028589768\n",
      "i= 65000 ,pi= 3.1415772689743755\n",
      "i= 66000 ,pi= 3.1415775020746057\n",
      "i= 67000 ,pi= 3.141577728216621\n",
      "i= 68000 ,pi= 3.141577947707404\n",
      "i= 69000 ,pi= 3.1415781608361444\n",
      "i= 70000 ,pi= 3.141578367875482\n",
      "i= 71000 ,pi= 3.141578569082728\n",
      "i= 72000 ,pi= 3.1415787647008715\n",
      "i= 73000 ,pi= 3.141578954959614\n",
      "i= 74000 ,pi= 3.1415791400762347\n",
      "i= 75000 ,pi= 3.1415793202564215\n",
      "i= 76000 ,pi= 3.141579495695011\n",
      "i= 77000 ,pi= 3.141579666576759\n",
      "i= 78000 ,pi= 3.1415798330769245\n",
      "i= 79000 ,pi= 3.1415799953618957\n",
      "i= 80000 ,pi= 3.1415801535897496\n",
      "i= 81000 ,pi= 3.141580307910736\n",
      "i= 82000 ,pi= 3.1415804584677907\n",
      "i= 83000 ,pi= 3.1415806053969693\n",
      "i= 84000 ,pi= 3.14158074882783\n",
      "i= 85000 ,pi= 3.141580888883847\n",
      "i= 86000 ,pi= 3.1415810256827537\n",
      "i= 87000 ,pi= 3.141581159336861\n",
      "i= 88000 ,pi= 3.141581289953369\n",
      "i= 89000 ,pi= 3.14158141763468\n",
      "i= 90000 ,pi= 3.1415815424786238\n",
      "i= 91000 ,pi= 3.1415816645787435\n",
      "i= 92000 ,pi= 3.1415817840245133\n",
      "i= 93000 ,pi= 3.1415819009015586\n",
      "i= 94000 ,pi= 3.1415820152918568\n",
      "i= 95000 ,pi= 3.141582127273938\n",
      "i= 96000 ,pi= 3.1415822369230506\n",
      "i= 97000 ,pi= 3.141582344311364\n",
      "i= 98000 ,pi= 3.1415824495080877\n",
      "i= 99000 ,pi= 3.141582552579623\n",
      "i= 100000 ,pi= 3.1415826535897198\n"
     ]
    }
   ],
   "source": [
    "for i in range(10000,100001,1000):\n",
    "    piz=0 \n",
    "    for j in range(1,i+1):\n",
    "        piz=piz+((-1)**(j+1))/(2*j-1)\n",
    "    print('i=',i,',pi=',4*piz)"
   ]
  },
  {
   "cell_type": "markdown",
   "metadata": {},
   "source": [
    "- 10 \n",
    "![](../Photo/66.png)"
   ]
  },
  {
   "cell_type": "code",
   "execution_count": null,
   "metadata": {},
   "outputs": [],
   "source": []
  },
  {
   "cell_type": "markdown",
   "metadata": {},
   "source": [
    "- 11\n",
    "![](../Photo/67.png)"
   ]
  },
  {
   "cell_type": "code",
   "execution_count": 5,
   "metadata": {},
   "outputs": [
    {
     "name": "stdout",
     "output_type": "stream",
     "text": [
      "1 2\n",
      "1 3\n",
      "1 4\n",
      "1 5\n",
      "1 6\n",
      "1 7\n",
      "2 3\n",
      "2 4\n",
      "2 5\n",
      "2 6\n",
      "2 7\n",
      "3 4\n",
      "3 5\n",
      "3 6\n",
      "3 7\n",
      "4 5\n",
      "4 6\n",
      "4 7\n",
      "5 6\n",
      "5 7\n",
      "6 7\n",
      "组合的总个数为：  21\n"
     ]
    }
   ],
   "source": [
    "count=0\n",
    "for i in range(1,8):\n",
    "    for j in range(i+1,8):\n",
    "        print(i,j)\n",
    "        count+=1\n",
    "print('组合的总个数为： ',count)"
   ]
  },
  {
   "cell_type": "markdown",
   "metadata": {},
   "source": [
    "- 12\n",
    "![](../Photo/68.png)"
   ]
  },
  {
   "cell_type": "code",
   "execution_count": 8,
   "metadata": {},
   "outputs": [
    {
     "name": "stdout",
     "output_type": "stream",
     "text": [
      "输入：1\n",
      "sum=1.000000\n",
      "avg=1.000000\n"
     ]
    },
    {
     "ename": "ZeroDivisionError",
     "evalue": "float division by zero",
     "output_type": "error",
     "traceback": [
      "\u001b[1;31m---------------------------------------------------------------------------\u001b[0m",
      "\u001b[1;31mZeroDivisionError\u001b[0m                         Traceback (most recent call last)",
      "\u001b[1;32m<ipython-input-8-a2f81de403fb>\u001b[0m in \u001b[0;36m<module>\u001b[1;34m\u001b[0m\n\u001b[0;32m     28\u001b[0m \u001b[0mprint\u001b[0m\u001b[1;33m(\u001b[0m\u001b[1;34m\"sum=%f\"\u001b[0m\u001b[1;33m%\u001b[0m\u001b[0msum1\u001b[0m\u001b[1;33m(\u001b[0m\u001b[0mlst\u001b[0m\u001b[1;33m)\u001b[0m\u001b[1;33m)\u001b[0m\u001b[1;33m\u001b[0m\u001b[1;33m\u001b[0m\u001b[0m\n\u001b[0;32m     29\u001b[0m \u001b[0mprint\u001b[0m\u001b[1;33m(\u001b[0m\u001b[1;34m\"avg=%f\"\u001b[0m\u001b[1;33m%\u001b[0m\u001b[0maverage\u001b[0m\u001b[1;33m(\u001b[0m\u001b[0mlst\u001b[0m\u001b[1;33m)\u001b[0m\u001b[1;33m)\u001b[0m\u001b[1;33m\u001b[0m\u001b[1;33m\u001b[0m\u001b[0m\n\u001b[1;32m---> 30\u001b[1;33m \u001b[0mprint\u001b[0m\u001b[1;33m(\u001b[0m\u001b[1;34m\"s=%f\"\u001b[0m\u001b[1;33m%\u001b[0m\u001b[0mvar\u001b[0m\u001b[1;33m(\u001b[0m\u001b[0mlst\u001b[0m\u001b[1;33m,\u001b[0m\u001b[0maverage\u001b[0m\u001b[1;33m(\u001b[0m\u001b[0mlist\u001b[0m\u001b[1;33m)\u001b[0m\u001b[1;33m)\u001b[0m\u001b[1;33m)\u001b[0m\u001b[1;33m\u001b[0m\u001b[1;33m\u001b[0m\u001b[0m\n\u001b[0m",
      "\u001b[1;32m<ipython-input-8-a2f81de403fb>\u001b[0m in \u001b[0;36mvar\u001b[1;34m(list, avg)\u001b[0m\n\u001b[0;32m     24\u001b[0m     \u001b[1;32mfor\u001b[0m \u001b[0mi\u001b[0m \u001b[1;32min\u001b[0m \u001b[0mlist\u001b[0m\u001b[1;33m:\u001b[0m\u001b[1;33m\u001b[0m\u001b[1;33m\u001b[0m\u001b[0m\n\u001b[0;32m     25\u001b[0m         \u001b[0mvar1\u001b[0m\u001b[1;33m+=\u001b[0m\u001b[0mfloat\u001b[0m\u001b[1;33m(\u001b[0m\u001b[1;33m(\u001b[0m\u001b[0mi\u001b[0m\u001b[1;33m-\u001b[0m\u001b[0mavg\u001b[0m\u001b[1;33m)\u001b[0m\u001b[1;33m**\u001b[0m\u001b[1;36m2\u001b[0m\u001b[1;33m*\u001b[0m\u001b[1;36m1.0\u001b[0m\u001b[1;33m)\u001b[0m\u001b[1;33m\u001b[0m\u001b[1;33m\u001b[0m\u001b[0m\n\u001b[1;32m---> 26\u001b[1;33m         \u001b[0mvar2\u001b[0m\u001b[1;33m=\u001b[0m\u001b[1;33m(\u001b[0m\u001b[0mmath\u001b[0m\u001b[1;33m.\u001b[0m\u001b[0msqrt\u001b[0m\u001b[1;33m(\u001b[0m\u001b[0mvar1\u001b[0m\u001b[1;33m/\u001b[0m\u001b[1;33m(\u001b[0m\u001b[0mlen\u001b[0m\u001b[1;33m(\u001b[0m\u001b[0mlst\u001b[0m\u001b[1;33m)\u001b[0m\u001b[1;33m-\u001b[0m\u001b[1;36m1\u001b[0m\u001b[1;33m)\u001b[0m\u001b[1;33m*\u001b[0m\u001b[1;36m1.0\u001b[0m\u001b[1;33m)\u001b[0m\u001b[1;33m)\u001b[0m\u001b[1;33m\u001b[0m\u001b[1;33m\u001b[0m\u001b[0m\n\u001b[0m\u001b[0;32m     27\u001b[0m     \u001b[1;32mreturn\u001b[0m \u001b[0mvar2\u001b[0m\u001b[1;33m\u001b[0m\u001b[1;33m\u001b[0m\u001b[0m\n\u001b[0;32m     28\u001b[0m \u001b[0mprint\u001b[0m\u001b[1;33m(\u001b[0m\u001b[1;34m\"sum=%f\"\u001b[0m\u001b[1;33m%\u001b[0m\u001b[0msum1\u001b[0m\u001b[1;33m(\u001b[0m\u001b[0mlst\u001b[0m\u001b[1;33m)\u001b[0m\u001b[1;33m)\u001b[0m\u001b[1;33m\u001b[0m\u001b[1;33m\u001b[0m\u001b[0m\n",
      "\u001b[1;31mZeroDivisionError\u001b[0m: float division by zero"
     ]
    }
   ],
   "source": [
    "#计算均值与方差\n",
    "import math\n",
    "lst=[]\n",
    "str=input(\"输入：\")\n",
    "lst1 = str.split(\" \")\n",
    "i = 0\n",
    "t = len(lst1)\n",
    "while i <=t+1:\n",
    "    if len(lst1)==0:\n",
    "        break\n",
    "    else:\n",
    "        lst.append(float(lst1.pop())) #将lst1的数据转换为整型并赋值给lst\n",
    "        i +=1\n",
    "def sum1(list): #对列表的数值求和\n",
    "    s=0\n",
    "    for x in list:\n",
    "        s+=x\n",
    "    return s\n",
    "def average(list): #对列表数据求平均值\n",
    "    avg = 0\n",
    "    avg = sum1(lst)/float(len(lst)*1.0) #调用sum函数求和\n",
    "    return avg\n",
    "def var(list,avg): #利用list和均值计算方差\n",
    "    var1=0\n",
    "    for i in list:\n",
    "        var1+=float((i-avg)**2*1.0)\n",
    "        var2=(math.sqrt(var1/(len(lst)-1)*1.0))\n",
    "    return var2\n",
    "print(\"sum=%f\"%sum1(lst))\n",
    "print(\"avg=%f\"%average(lst))\n",
    "print(\"s=%f\"%var(lst,average(list)))"
   ]
  },
  {
   "cell_type": "code",
   "execution_count": null,
   "metadata": {},
   "outputs": [],
   "source": []
  }
 ],
 "metadata": {
  "kernelspec": {
   "display_name": "Python 3",
   "language": "python",
   "name": "python3"
  },
  "language_info": {
   "codemirror_mode": {
    "name": "ipython",
    "version": 3
   },
   "file_extension": ".py",
   "mimetype": "text/x-python",
   "name": "python",
   "nbconvert_exporter": "python",
   "pygments_lexer": "ipython3",
   "version": "3.7.3"
  }
 },
 "nbformat": 4,
 "nbformat_minor": 2
}
